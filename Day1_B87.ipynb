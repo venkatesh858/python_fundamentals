{
 "cells": [
  {
   "cell_type": "code",
   "execution_count": 3,
   "id": "ad723b7c-1521-4957-b168-3e8621b5c605",
   "metadata": {},
   "outputs": [
    {
     "name": "stdout",
     "output_type": "stream",
     "text": [
      "Hello all, welcome to the python programming world !\n"
     ]
    }
   ],
   "source": [
    "print(\"Hello all, welcome to the python programming world !\")"
   ]
  },
  {
   "cell_type": "code",
   "execution_count": null,
   "id": "240793a3-c1b9-40c4-a4c5-28f5a69cef00",
   "metadata": {},
   "outputs": [],
   "source": []
  }
 ],
 "metadata": {
  "kernelspec": {
   "display_name": "Python 3 (ipykernel)",
   "language": "python",
   "name": "python3"
  },
  "language_info": {
   "codemirror_mode": {
    "name": "ipython",
    "version": 3
   },
   "file_extension": ".py",
   "mimetype": "text/x-python",
   "name": "python",
   "nbconvert_exporter": "python",
   "pygments_lexer": "ipython3",
   "version": "3.11.7"
  }
 },
 "nbformat": 4,
 "nbformat_minor": 5
}
